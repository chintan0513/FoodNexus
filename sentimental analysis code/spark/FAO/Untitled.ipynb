{
 "cells": [
  {
   "cell_type": "code",
   "execution_count": 25,
   "id": "7d80c9df",
   "metadata": {},
   "outputs": [],
   "source": [
    "from pyspark.sql import SparkSession\n",
    "from functools import reduce\n",
    "from pyspark.sql import DataFrame"
   ]
  },
  {
   "cell_type": "code",
   "execution_count": 26,
   "id": "77fe2622",
   "metadata": {},
   "outputs": [],
   "source": [
    "spark = SparkSession.builder.appName(\"combine file names\").getOrCreate()"
   ]
  },
  {
   "cell_type": "code",
   "execution_count": 27,
   "id": "6b621bf6",
   "metadata": {},
   "outputs": [],
   "source": [
    "file_paths = [\n",
    "    \"FAOSTAT_data_en_1-27-2024.csv\",\n",
    "    \"FAOSTAT_data_en_1-27-2024 (1).csv\",\n",
    "    \"FAOSTAT_data_en_1-27-2024 (2).csv\",\n",
    "    \"FAOSTAT_data_en_1-27-2024 (3).csv\",\n",
    "    \"FAOSTAT_data_en_1-27-2024 (4).csv\",\n",
    "    \"FAOSTAT_data_en_1-27-2024 (5).csv\",\n",
    "    \"FAOSTAT_data_en_1-27-2024 (6).csv\",\n",
    "    \"FAOSTAT_data_en_1-27-2024 (7).csv\",\n",
    "    \"FAOSTAT_data_en_1-27-2024 (8).csv\",\n",
    "    \"FAOSTAT_data_en_1-27-2024 (9).csv\",\n",
    "    \"FAOSTAT_data_en_1-27-2024 (10).csv\",\n",
    "    \"FAOSTAT_data_en_1-27-2024 (11).csv\"\n",
    "]"
   ]
  },
  {
   "cell_type": "code",
   "execution_count": 28,
   "id": "baba96cd",
   "metadata": {},
   "outputs": [],
   "source": [
    "dfs = [spark.read.csv(file_path,header=True,inferSchema=True) for file_path in file_paths]"
   ]
  },
  {
   "cell_type": "code",
   "execution_count": 29,
   "id": "c8ed0337",
   "metadata": {
    "scrolled": false
   },
   "outputs": [],
   "source": [
    "combined_df = reduce(DataFrame.unionAll,dfs)"
   ]
  },
  {
   "cell_type": "markdown",
   "id": "ee8e1415",
   "metadata": {},
   "source": []
  },
  {
   "cell_type": "code",
   "execution_count": 31,
   "id": "078a231f",
   "metadata": {},
   "outputs": [],
   "source": [
    "combined_df.write.option(\"header\",\"true\").csv(\"n_combined_data.csv\")"
   ]
  },
  {
   "cell_type": "code",
   "execution_count": 33,
   "id": "0a20f044",
   "metadata": {},
   "outputs": [],
   "source": [
    "combined_df.coalesce(1).write \\\n",
    "    .option(\"header\", \"true\") \\\n",
    "    .csv(\"nn_combined_data.csv\")\n",
    "\n"
   ]
  },
  {
   "cell_type": "code",
   "execution_count": null,
   "id": "04cfef57",
   "metadata": {},
   "outputs": [],
   "source": [
    "# Stop the SparkSession\n",
    "spark.stop()\n"
   ]
  }
 ],
 "metadata": {
  "kernelspec": {
   "display_name": "Python 3 (ipykernel)",
   "language": "python",
   "name": "python3"
  },
  "language_info": {
   "codemirror_mode": {
    "name": "ipython",
    "version": 3
   },
   "file_extension": ".py",
   "mimetype": "text/x-python",
   "name": "python",
   "nbconvert_exporter": "python",
   "pygments_lexer": "ipython3",
   "version": "3.10.4"
  }
 },
 "nbformat": 4,
 "nbformat_minor": 5
}
